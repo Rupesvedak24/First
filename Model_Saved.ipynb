{
  "nbformat": 4,
  "nbformat_minor": 0,
  "metadata": {
    "colab": {
      "name": "Model_Saved.ipynb",
      "provenance": [],
      "include_colab_link": true
    },
    "kernelspec": {
      "name": "python3",
      "display_name": "Python 3"
    },
    "language_info": {
      "name": "python"
    }
  },
  "cells": [
    {
      "cell_type": "markdown",
      "metadata": {
        "id": "view-in-github",
        "colab_type": "text"
      },
      "source": [
        "<a href=\"https://colab.research.google.com/github/Rupesvedak24/First/blob/main/Model_Saved.ipynb\" target=\"_parent\"><img src=\"https://colab.research.google.com/assets/colab-badge.svg\" alt=\"Open In Colab\"/></a>"
      ]
    },
    {
      "cell_type": "code",
      "metadata": {
        "id": "Ci56qGdr4SYk",
        "colab": {
          "base_uri": "https://localhost:8080/"
        },
        "outputId": "9b1507ca-b923-44ae-fa9f-f65c280647f5"
      },
      "source": [
        "#import the libraries\n",
        "import pandas as pd\n",
        "from sklearn.linear_model import LogisticRegression\n",
        "from pickle import dump\n",
        "from pickle import load\n",
        "\n",
        "\n",
        "claimants = pd.read_csv(\"/content/claimants.csv\")\n",
        "claimants.drop([\"CASENUM\"],inplace=True,axis = 1)\n",
        "claimants = claimants.dropna()\n",
        "\n",
        "X = claimants.iloc[:,[1,2,3,4,5]]\n",
        "Y = claimants.iloc[:,0]\n",
        "model = LogisticRegression(max_iter=300)\n",
        "model.fit(X,Y)"
      ],
      "execution_count": 1,
      "outputs": [
        {
          "output_type": "execute_result",
          "data": {
            "text/plain": [
              "LogisticRegression(C=1.0, class_weight=None, dual=False, fit_intercept=True,\n",
              "                   intercept_scaling=1, l1_ratio=None, max_iter=300,\n",
              "                   multi_class='auto', n_jobs=None, penalty='l2',\n",
              "                   random_state=None, solver='lbfgs', tol=0.0001, verbose=0,\n",
              "                   warm_start=False)"
            ]
          },
          "metadata": {
            "tags": []
          },
          "execution_count": 1
        }
      ]
    },
    {
      "cell_type": "code",
      "metadata": {
        "id": "ddKdJHHF4tqy"
      },
      "source": [
        "# save the model to disk\n",
        "dump(model, open('/content/claimants.csv', 'wb'))"
      ],
      "execution_count": 2,
      "outputs": []
    },
    {
      "cell_type": "code",
      "metadata": {
        "id": "MgLWckYz4phx",
        "colab": {
          "base_uri": "https://localhost:8080/"
        },
        "outputId": "9db8b8ed-e9f8-448f-ab6c-a69c64a319b3"
      },
      "source": [
        "# load the model from disk\n",
        "loaded_model = load(open('/content/claimants.csv', 'rb'))\n",
        "result = loaded_model.score(X, Y)\n",
        "print(result)"
      ],
      "execution_count": 3,
      "outputs": [
        {
          "output_type": "stream",
          "text": [
            "0.708029197080292\n"
          ],
          "name": "stdout"
        }
      ]
    },
    {
      "cell_type": "code",
      "metadata": {
        "id": "D3xhErwl5Fgu"
      },
      "source": [
        ""
      ],
      "execution_count": null,
      "outputs": []
    }
  ]
}